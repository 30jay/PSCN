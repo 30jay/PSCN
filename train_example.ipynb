{
 "cells": [
  {
   "cell_type": "markdown",
   "metadata": {},
   "source": [
    "# A simple training example on mutag"
   ]
  },
  {
   "cell_type": "code",
   "execution_count": 1,
   "metadata": {
    "collapsed": false
   },
   "outputs": [
    {
     "name": "stderr",
     "output_type": "stream",
     "text": [
      "Using TensorFlow backend.\n",
      "//anaconda/lib/python3.5/importlib/_bootstrap.py:222: RuntimeWarning: compiletime version 3.6 of module 'tensorflow.python.framework.fast_tensor_util' does not match runtime version 3.5\n",
      "  return f(*args, **kwds)\n"
     ]
    }
   ],
   "source": [
    "from data_loader import load_local_data\n",
    "import networkx as nx\n",
    "from pscn import PSCN\n",
    "from sklearn.model_selection import train_test_split\n",
    "import numpy as np"
   ]
  },
  {
   "cell_type": "code",
   "execution_count": 2,
   "metadata": {
    "collapsed": true
   },
   "outputs": [],
   "source": [
    "mutag_dataset=load_local_data('./data','mutag')\n",
    "X,y=zip(*mutag_dataset)"
   ]
  },
  {
   "cell_type": "markdown",
   "metadata": {},
   "source": [
    "X is a list of Graph objects and y the list of the classes"
   ]
  },
  {
   "cell_type": "code",
   "execution_count": 3,
   "metadata": {
    "collapsed": true
   },
   "outputs": [],
   "source": [
    "pscn=PSCN(w=18,k=10,one_hot=7,epochs=10,batch_size=30,verbose=2) #see receptive_field_maker_example for more details"
   ]
  },
  {
   "cell_type": "code",
   "execution_count": 4,
   "metadata": {
    "collapsed": true
   },
   "outputs": [],
   "source": [
    "X_train, X_test, y_train, y_test=train_test_split(X,y,test_size=0.33, random_state=42)"
   ]
  },
  {
   "cell_type": "code",
   "execution_count": 5,
   "metadata": {
    "collapsed": false
   },
   "outputs": [
    {
     "name": "stdout",
     "output_type": "stream",
     "text": [
      "Time preprocess data in s 9.309277057647705\n",
      "Epoch 1/10\n",
      " - 0s - loss: 0.6346 - acc: 0.6560\n",
      "Epoch 2/10\n",
      " - 0s - loss: 0.5677 - acc: 0.7040\n",
      "Epoch 3/10\n",
      " - 0s - loss: 0.5098 - acc: 0.7440\n",
      "Epoch 4/10\n",
      " - 0s - loss: 0.5041 - acc: 0.7440\n",
      "Epoch 5/10\n",
      " - 0s - loss: 0.4738 - acc: 0.8000\n",
      "Epoch 6/10\n",
      " - 0s - loss: 0.4208 - acc: 0.8400\n",
      "Epoch 7/10\n",
      " - 0s - loss: 0.4389 - acc: 0.8000\n",
      "Epoch 8/10\n",
      " - 0s - loss: 0.3909 - acc: 0.8400\n",
      "Epoch 9/10\n",
      " - 0s - loss: 0.3904 - acc: 0.8400\n",
      "Epoch 10/10\n",
      " - 0s - loss: 0.3781 - acc: 0.8560\n",
      "Time fit data in s 0.8502159118652344\n"
     ]
    }
   ],
   "source": [
    "pscn.fit(X_train,y_train)"
   ]
  },
  {
   "cell_type": "code",
   "execution_count": 6,
   "metadata": {
    "collapsed": false
   },
   "outputs": [
    {
     "name": "stdout",
     "output_type": "stream",
     "text": [
      "Time preprocess data in s 4.9801390171051025\n"
     ]
    }
   ],
   "source": [
    "preds=pscn.predict(X_test)"
   ]
  },
  {
   "cell_type": "code",
   "execution_count": 7,
   "metadata": {
    "collapsed": false
   },
   "outputs": [
    {
     "data": {
      "text/plain": [
       "37.38095238095238"
      ]
     },
     "execution_count": 7,
     "metadata": {},
     "output_type": "execute_result"
    }
   ],
   "source": [
    "np.sum(preds==y_test)/len(y_test)"
   ]
  }
 ],
 "metadata": {
  "anaconda-cloud": {},
  "kernelspec": {
   "display_name": "Python [default]",
   "language": "python",
   "name": "python3"
  },
  "language_info": {
   "codemirror_mode": {
    "name": "ipython",
    "version": 3
   },
   "file_extension": ".py",
   "mimetype": "text/x-python",
   "name": "python",
   "nbconvert_exporter": "python",
   "pygments_lexer": "ipython3",
   "version": "3.5.2"
  }
 },
 "nbformat": 4,
 "nbformat_minor": 1
}
